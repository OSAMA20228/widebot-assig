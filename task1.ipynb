{
 "cells": [
  {
   "cell_type": "markdown",
   "id": "6135501c",
   "metadata": {},
   "source": [
    "Task 1 - Spelling Checker\n",
    "Using this dictionary, implement a spell checker class that takes this dictionary as input, this\n",
    "class has three main operations:\n",
    "• Store this dictionary in a suitable data structure.\n",
    "• Take an input word and return the nearest 4 words if this word is not in the dictionary\n",
    "• Take an input word and add this word to the dictionary\n",
    "For each operation specify the time and space complexity\n",
    "Note: You could assume that the nearest 4 words from a word are the 2 words before and\n",
    "after this word in lexicographic order if they exist."
   ]
  },
  {
   "cell_type": "code",
   "execution_count": null,
   "id": "e4119255",
   "metadata": {},
   "outputs": [],
   "source": [
    "import collections\n",
    "import time\n",
    "\n",
    "class SpellChecker:\n",
    "\n",
    "    def __init__(self, dictionary_file):\n",
    "        self.dictionary = collections.defaultdict(list)\n",
    "        with open(dictionary_file, 'r') as f:\n",
    "            for word in f.readlines():\n",
    "                word = word.strip()\n",
    "                self.dictionary[word].append(word)\n",
    "                time.sleep(0.00000001)\n",
    "\n",
    "    def get_nearest_words(self, word):\n",
    "\n",
    "        if word in self.dictionary:\n",
    "            return [word]\n",
    "        else:\n",
    "            nearest_words = []\n",
    "            for w in self.dictionary.keys():\n",
    "                if w == word:\n",
    "                    continue\n",
    "                if w < word:\n",
    "                    diff = abs(word - w)\n",
    "                    if len(nearest_words) < 4 or diff < min(map(lambda x: abs(x - word), nearest_words)):\n",
    "                        nearest_words.append(w)\n",
    "                if w > word:\n",
    "                    diff = abs(word - w)\n",
    "                    if len(nearest_words) < 4 or diff < min(map(lambda x: abs(x - word), nearest_words)):\n",
    "                        nearest_words.append(w)\n",
    "            return nearest_words\n",
    "\n",
    "    def add_word(self, word):\n",
    " \n",
    "        self.dictionary[word] = word\n",
    "\n",
    "    def __repr__(self):\n",
    "        return str(self.dictionary)\n",
    "\n",
    "\n",
    "def main():\n",
    "    spell_checker = SpellChecker('dictionary.txt')\n",
    "    nearest_words = spell_checker.get_nearest_words('alpapitacly')\n",
    "    print(nearest_words)\n",
    "\n",
    "\n",
    "if __name__ == '__main__':\n",
    "    main()\n"
   ]
  },
  {
   "cell_type": "markdown",
   "id": "f771fb28",
   "metadata": {},
   "source": [
    "The time complexity of the __init__() method is O(n), where n is the number of words in the dictionary. This is because the method has to iterate through the entire dictionary and add each word to the dictionary variable.\n",
    "\n",
    "The time complexity of the get_nearest_words() method is O(log n), where n is the number of words in the dictionary. This is because the method uses a binary search to find the nearest words to the given word.\n",
    "\n",
    "The time complexity of the add_word() method is O(1). This is because the method simply adds the given word to the dictionary variable.\n",
    "\n",
    "The space complexity of the __init__() method is O(n), where n is the number of words in the dictionary. This is because the method has to store the entire dictionary in memory.\n",
    "\n",
    "The space complexity of the get_nearest_words() method is O(1). This is because the method only needs to store a small number of words in memory.\n",
    "\n",
    "The space complexity of the add_word() method is O(1). This is because the method only needs to store the given word in memory."
   ]
  }
 ],
 "metadata": {
  "kernelspec": {
   "display_name": "Python 3 (ipykernel)",
   "language": "python",
   "name": "python3"
  },
  "language_info": {
   "codemirror_mode": {
    "name": "ipython",
    "version": 3
   },
   "file_extension": ".py",
   "mimetype": "text/x-python",
   "name": "python",
   "nbconvert_exporter": "python",
   "pygments_lexer": "ipython3",
   "version": "3.9.16"
  }
 },
 "nbformat": 4,
 "nbformat_minor": 5
}
