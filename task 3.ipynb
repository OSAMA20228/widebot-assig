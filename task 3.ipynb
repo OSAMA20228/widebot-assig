{
 "cells": [
  {
   "cell_type": "code",
   "execution_count": null,
   "id": "92c9f116",
   "metadata": {},
   "outputs": [],
   "source": [
    "import numpy as np\n",
    "import pandas as pd\n",
    "from sklearn.feature_extraction.text import CountVectorizer\n",
    "from sklearn.naive_bayes import MultinomialNB\n",
    "\n",
    "def load_data(filename):\n",
    "    data = pd.read_csv(filename, names=['label', 'text'])\n",
    "    return data\n",
    "\n",
    "def train_model(data):\n",
    "    vectorizer = CountVectorizer()\n",
    "    features = vectorizer.fit_transform(data['text'])\n",
    "    target = data['label']\n",
    "\n",
    "    model = MultinomialNB()\n",
    "    model.fit(features, target)\n",
    "\n",
    "    return model\n",
    "\n",
    "def evaluate_model(model, data):\n",
    "    features = vectorizer.transform(data['text'])\n",
    "    target = data['label']\n",
    "\n",
    "    predictions = model.predict(features)\n",
    "\n",
    "    precision = np.mean(predictions == target)\n",
    "    recall = np.mean(target == predictions)\n",
    "    f1 = 2 * precision * recall / (precision + recall)\n",
    "    accuracy = np.mean(predictions == target)\n",
    "\n",
    "    return precision, recall, f1, accuracy\n",
    "\n",
    "if __name__ == '__main__':\n",
    "    data = load_data('stories.csv')\n",
    "    train_data = data.sample(frac=0.8)\n",
    "    test_data = data.drop(train_data.index)\n",
    "\n",
    "    model = train_model(train_data)\n",
    "    precision, recall, f1, accuracy = evaluate_model(model, test_data)\n",
    "\n",
    "    print('Precision:', precision)\n",
    "    print('Recall:', recall)\n",
    "    print('F1:', f1)\n",
    "    print('Accuracy:', accuracy)\n"
   ]
  },
  {
   "cell_type": "markdown",
   "id": "606a74cd",
   "metadata": {},
   "source": [
    "Some enhancements that could be made to achieve better results include:\n",
    "\n",
    "Using a different machine learning algorithm. The Multinomial Naive Bayes classifier is a good starting point, but there are other algorithms that might perform better.\n",
    "Using a different feature extraction method."
   ]
  }
 ],
 "metadata": {
  "kernelspec": {
   "display_name": "Python 3 (ipykernel)",
   "language": "python",
   "name": "python3"
  },
  "language_info": {
   "codemirror_mode": {
    "name": "ipython",
    "version": 3
   },
   "file_extension": ".py",
   "mimetype": "text/x-python",
   "name": "python",
   "nbconvert_exporter": "python",
   "pygments_lexer": "ipython3",
   "version": "3.9.16"
  }
 },
 "nbformat": 4,
 "nbformat_minor": 5
}
